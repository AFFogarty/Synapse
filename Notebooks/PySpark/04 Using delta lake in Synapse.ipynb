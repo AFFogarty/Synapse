{
  "metadata": {
    "language_info": {
      "name": "python"
    },
    "sessionKeepAliveTimeout": 30
  },
  "nbformat": 4,
  "nbformat_minor": 2,
  "cells": [
    {
      "cell_type": "markdown",
      "metadata": {},
      "source": [
        "# Using delta lake in Synaspe Spark\n",
        "Synapse is compatible with Linux Foundation Delta Lake. Delta Lake is an open-source storage layer that brings ACID (atomicity, consistency, isolation, and durability) transactions to Apache Spark and big data workloads.\n",
        "\n",
        "This notebook provides examples of how to update, merge and delete delta lake tables in Synapse.\n",
        "\n",
        "## Pre-requisites\n",
        "In this notebook we are going to save your delta table to workspace's primary storage account. You are required to be a **Blob Storage Contributor** in the ADLS Gen2 account (or folder) you will access.\n",
        ""
      ],
      "attachments": {}
    },
    {
      "cell_type": "markdown",
      "metadata": {},
      "source": [
        "## Load a sample data\n",
        "\n",
        "Let's first load the [public holidays](https://azure.microsoft.com/en-us/services/open-datasets/catalog/public-holidays/) of last 6 months from Azure Open datasets as a sample.\n",
        ""
      ],
      "attachments": {}
    },
    {
      "cell_type": "code",
      "execution_count": 3,
      "outputs": [],
      "metadata": {},
      "source": [
        "from azureml.opendatasets import PublicHolidays\n",
        "\n",
        "from datetime import datetime\n",
        "from dateutil import parser\n",
        "from dateutil.relativedelta import relativedelta\n",
        "\n",
        "\n",
        "end_date = datetime.today()\n",
        "start_date = datetime.today() - relativedelta(months=6)\n",
        "hol = PublicHolidays(start_date=start_date, end_date=end_date)\n",
        "hol_df = hol.to_spark_dataframe()"
      ],
      "attachments": {}
    },
    {
      "cell_type": "code",
      "execution_count": 26,
      "outputs": [
        {
          "execution_count": 26,
          "output_type": "execute_result",
          "data": {
            "text/plain": "+---------------+-----------------------------------------------------------------------------+-----------------------------------------------------------------------------+-------------+-----------------+-------------------+\n|countryOrRegion|holidayName                                                                  |normalizeHolidayName                                                         |isPaidTimeOff|countryRegionCode|date               |\n+---------------+-----------------------------------------------------------------------------+-----------------------------------------------------------------------------+-------------+-----------------+-------------------+\n|India          |Gandhi Jayanti                                                               |Gandhi Jayanti                                                               |true         |IN               |2019-10-02 00:00:00|\n|Germany        |Tag der Deutschen Einheit                                                    |Tag der Deutschen Einheit                                                    |null         |DE               |2019-10-03 00:00:00|\n|Portugal       |Implantação da República                                                     |Implantação da República                                                     |null         |PT               |2019-10-05 00:00:00|\n|Norway         |Søndag                                                                       |Søndag                                                                       |null         |NO               |2019-10-06 00:00:00|\n|Sweden         |Söndag                                                                       |Söndag                                                                       |null         |SE               |2019-10-06 00:00:00|\n|Croatia        |Dan neovisnosti                                                              |Dan neovisnosti                                                              |null         |HR               |2019-10-08 00:00:00|\n|Argentina      |Día del Respeto a la Diversidad Cultural [Respect for Cultural Diversity Day]|Día del Respeto a la Diversidad Cultural [Respect for Cultural Diversity Day]|null         |AR               |2019-10-12 00:00:00|\n|Brazil         |Nossa Senhora Aparecida                                                      |Nossa Senhora Aparecida                                                      |null         |BR               |2019-10-12 00:00:00|\n|Spain          |Día de la Hispanidad                                                         |Día de la Hispanidad                                                         |null         |ES               |2019-10-12 00:00:00|\n|Norway         |Søndag                                                                       |Søndag                                                                       |null         |NO               |2019-10-13 00:00:00|\n+---------------+-----------------------------------------------------------------------------+-----------------------------------------------------------------------------+-------------+-----------------+-------------------+\nonly showing top 10 rows"
          },
          "metadata": {}
        }
      ],
      "metadata": {},
      "source": [
        "# Display 10 rows\n",
        "hol_df.show(10, truncate = False)"
      ],
      "attachments": {}
    },
    {
      "cell_type": "markdown",
      "metadata": {},
      "source": [
        "## Write data to the delta lake table\n",
        ""
      ],
      "attachments": {}
    },
    {
      "cell_type": "code",
      "execution_count": 27,
      "outputs": [
        {
          "execution_count": 27,
          "output_type": "execute_result",
          "data": {
            "text/plain": "Primary storage account path: abfss://mydefault@ltianwestus2gen2.dfs.core.windows.net/samplenb/\nDelta lake path: abfss://mydefault@ltianwestus2gen2.dfs.core.windows.net/samplenb/delta/holiday/"
          },
          "metadata": {}
        }
      ],
      "metadata": {},
      "source": [
        "# Set the strorage path info\n",
        "# Primary storage info\n",
        "account_name = 'Your storage account name' # fill in your primary storage account name\n",
        "container_name = 'Your container name' # fill in your container name\n",
        "relative_path = 'Your relative path' # fill in your relative folder path\n",
        "\n",
        "adls_path = 'abfss://%s@%s.dfs.core.windows.net/%s' % (container_name, account_name, relative_path)\n",
        "print('Primary storage account path: ' + adls_path)\n",
        "\n",
        "# Delta lake relative path\n",
        "delta_relative_path = adls_path + 'delta/holiday/'\n",
        "print('Delta lake path: ' + delta_relative_path)"
      ],
      "attachments": {}
    },
    {
      "cell_type": "code",
      "execution_count": 28,
      "outputs": [
        {
          "execution_count": 28,
          "output_type": "execute_result",
          "data": {
            "text/plain": "+---------------+------------------------+------------------------+-------------+-----------------+-------------------+\n|countryOrRegion|holidayName             |normalizeHolidayName    |isPaidTimeOff|countryRegionCode|date               |\n+---------------+------------------------+------------------------+-------------+-----------------+-------------------+\n|India          |Gandhi Jayanti          |Gandhi Jayanti          |true         |IN               |2019-10-02 00:00:00|\n|India          |Christmas               |Christmas               |false        |IN               |2019-12-25 00:00:00|\n|India          |Makar Sankranti / Pongal|Makar Sankranti / Pongal|false        |IN               |2020-01-14 00:00:00|\n|India          |Republic Day            |Republic Day            |true         |IN               |2020-01-26 00:00:00|\n+---------------+------------------------+------------------------+-------------+-----------------+-------------------+"
          },
          "metadata": {}
        }
      ],
      "metadata": {},
      "source": [
        "# Filter out indian holidays\n",
        "hol_df_IN = hol_df[(hol_df.countryRegionCode == \"IN\")]\n",
        "hol_df_IN.show(5, truncate = False)"
      ],
      "attachments": {}
    },
    {
      "cell_type": "code",
      "execution_count": 29,
      "outputs": [],
      "metadata": {},
      "source": [
        "#Let's write the data in the delta table. \n",
        "hol_df_IN.write.mode(\"overwrite\").format(\"delta\").partitionBy(\"holidayName\").save(delta_relative_path)"
      ],
      "attachments": {}
    },
    {
      "cell_type": "code",
      "execution_count": 12,
      "outputs": [
        {
          "execution_count": 12,
          "output_type": "execute_result",
          "data": {
            "text/plain": "+---------------+--------------------+--------------------+-------------+-----------------+-------------------+\n|countryOrRegion|         holidayName|normalizeHolidayName|isPaidTimeOff|countryRegionCode|               date|\n+---------------+--------------------+--------------------+-------------+-----------------+-------------------+\n|          India|Makar Sankranti /...|Makar Sankranti /...|        false|               IN|2020-01-14 00:00:00|\n|          India|      Gandhi Jayanti|      Gandhi Jayanti|         true|               IN|2019-10-02 00:00:00|\n|          India|        Republic Day|        Republic Day|         true|               IN|2020-01-26 00:00:00|\n|          India|           Christmas|           Christmas|        false|               IN|2019-12-25 00:00:00|\n+---------------+--------------------+--------------------+-------------+-----------------+-------------------+"
          },
          "metadata": {}
        }
      ],
      "metadata": {},
      "source": [
        "delta_data = spark.read.format(\"delta\").load(delta_relative_path)\n",
        "delta_data.show()"
      ],
      "attachments": {}
    },
    {
      "cell_type": "markdown",
      "metadata": {},
      "source": [
        "## Overwrite the entire delta table\n",
        ""
      ],
      "attachments": {}
    },
    {
      "cell_type": "code",
      "execution_count": 69,
      "outputs": [],
      "metadata": {},
      "source": [
        "#Let's overwrite the entire delta file with 1 record\n",
        "\n",
        "hol_df_JP= hol_df[(hol_df.countryRegionCode == \"JP\")]\n",
        "hol_df_JP.write.format(\"delta\").mode(\"overwrite\").save(delta_relative_path)"
      ],
      "attachments": {}
    },
    {
      "cell_type": "code",
      "execution_count": 64,
      "outputs": [
        {
          "execution_count": 64,
          "output_type": "execute_result",
          "data": {
            "text/plain": "+---------------+--------------------------+--------------------------+-------------+-----------------+-------------------+\n|countryOrRegion|               holidayName|      normalizeHolidayName|isPaidTimeOff|countryRegionCode|               date|\n+---------------+--------------------------+--------------------------+-------------+-----------------+-------------------+\n|          Japan|即位礼正殿の儀が行われる日|即位礼正殿の儀が行われる日|         null|               JP|2019-10-22 00:00:00|\n|          Japan|              勤労感謝の日|              勤労感謝の日|         null|               JP|2019-11-23 00:00:00|\n|          Japan|              建国記念の日|              建国記念の日|         null|               JP|2020-02-11 00:00:00|\n|          Japan|                天皇誕生日|                天皇誕生日|         null|               JP|2020-02-23 00:00:00|\n|          Japan|                  文化の日|                  文化の日|         null|               JP|2019-11-03 00:00:00|\n|          Japan|                  成人の日|                  成人の日|         null|               JP|2020-01-13 00:00:00|\n|          Japan|                  春分の日|                  春分の日|         null|               JP|2020-03-20 00:00:00|\n|          Japan|                  体育の日|                  体育の日|         null|               JP|2019-10-14 00:00:00|\n|          Japan|                  振替休日|                  振替休日|         null|               JP|2019-11-04 00:00:00|\n|          Japan|                  振替休日|                  振替休日|         null|               JP|2020-02-24 00:00:00|\n|          Japan|                      元日|                      元日|         null|               JP|2020-01-01 00:00:00|\n+---------------+--------------------------+--------------------------+-------------+-----------------+-------------------+"
          },
          "metadata": {}
        }
      ],
      "metadata": {},
      "source": [
        "delta_data = spark.read.format(\"delta\").load(delta_relative_path)\n",
        "delta_data.show()"
      ],
      "attachments": {}
    },
    {
      "cell_type": "markdown",
      "metadata": {},
      "source": [
        "## Merge new data based on given merge condition "
      ],
      "attachments": {}
    },
    {
      "cell_type": "code",
      "execution_count": 70,
      "outputs": [
        {
          "execution_count": 70,
          "output_type": "execute_result",
          "data": {
            "text/plain": "+---------------+--------------------------+--------------------------+-------------+-----------------+-------------------+\n|countryOrRegion|               holidayName|      normalizeHolidayName|isPaidTimeOff|countryRegionCode|               date|\n+---------------+--------------------------+--------------------------+-------------+-----------------+-------------------+\n|          Japan|即位礼正殿の儀が行われる日|即位礼正殿の儀が行われる日|         null|               JP|2019-10-22 00:00:00|\n|  United States|      Martin Luther Kin...|      Martin Luther Kin...|         true|               US|2020-01-20 00:00:00|\n|  United States|      Washington's Birt...|      Washington's Birt...|         true|               US|2020-02-17 00:00:00|\n|  United States|            New Year's Day|            New Year's Day|         true|               US|2020-01-01 00:00:00|\n|  United States|             Christmas Day|             Christmas Day|         true|               US|2019-12-25 00:00:00|\n|  United States|              Veterans Day|              Veterans Day|        false|               US|2019-11-11 00:00:00|\n|  United States|              Thanksgiving|              Thanksgiving|         true|               US|2019-11-28 00:00:00|\n|  United States|              Columbus Day|              Columbus Day|        false|               US|2019-10-14 00:00:00|\n|          Japan|              勤労感謝の日|              勤労感謝の日|         null|               JP|2019-11-23 00:00:00|\n|          Japan|              建国記念の日|              建国記念の日|         null|               JP|2020-02-11 00:00:00|\n|          Japan|                天皇誕生日|                天皇誕生日|         null|               JP|2020-02-23 00:00:00|\n|          Japan|                  文化の日|                  文化の日|         null|               JP|2019-11-03 00:00:00|\n|          Japan|                  成人の日|                  成人の日|         null|               JP|2020-01-13 00:00:00|\n|          Japan|                  春分の日|                  春分の日|         null|               JP|2020-03-20 00:00:00|\n|          Japan|                  体育の日|                  体育の日|         null|               JP|2019-10-14 00:00:00|\n|          Japan|                  振替休日|                  振替休日|         null|               JP|2019-11-04 00:00:00|\n|          Japan|                  振替休日|                  振替休日|         null|               JP|2020-02-24 00:00:00|\n|          Japan|                      元日|                      元日|         null|               JP|2020-01-01 00:00:00|\n+---------------+--------------------------+--------------------------+-------------+-----------------+-------------------+"
          },
          "metadata": {}
        }
      ],
      "metadata": {},
      "source": [
        "# Upsert (merge) the United States' holiday data with Japan's\n",
        " \n",
        "from delta.tables import *\n",
        "\n",
        "deltaTable = DeltaTable.forPath(spark,delta_relative_path)\n",
        "\n",
        "hol_df_US= hol_df[(hol_df.countryRegionCode == \"US\")]\n",
        "\n",
        "\n",
        "deltaTable.alias(\"hol_df_JP\").merge(\n",
        "     source = hol_df_US.alias(\"hol_df_US\"),\n",
        "     condition = \"hol_df_JP.countryRegionCode = hol_df_US.countryRegionCode\"\n",
        "    ).whenMatchedUpdate(set = \n",
        "    {}).whenNotMatchedInsert( values = \n",
        "    {\n",
        "        \"countryOrRegion\" : \"hol_df_US.countryOrRegion\",\n",
        "        \"holidayName\" : \"hol_df_US.holidayName\",\n",
        "        \"normalizeHolidayName\" : \"hol_df_US.normalizeHolidayName\",\n",
        "        \"isPaidTimeOff\":\"hol_df_US.isPaidTimeOff\",\n",
        "        \"countryRegionCode\":\"hol_df_US.countryRegionCode\",\n",
        "        \"date\":\"hol_df_US.date\"\n",
        "    }\n",
        "    ).execute()\n",
        "\n",
        "\n",
        "deltaTable.toDF().show()"
      ],
      "attachments": {}
    },
    {
      "cell_type": "markdown",
      "metadata": {},
      "source": [
        "## Update table on the rows that match the given condition\n",
        ""
      ],
      "attachments": {}
    },
    {
      "cell_type": "code",
      "execution_count": 71,
      "outputs": [
        {
          "execution_count": 71,
          "output_type": "execute_result",
          "data": {
            "text/plain": "+---------------+--------------------------+--------------------------+-------------+-----------------+-------------------+\n|countryOrRegion|               holidayName|      normalizeHolidayName|isPaidTimeOff|countryRegionCode|               date|\n+---------------+--------------------------+--------------------------+-------------+-----------------+-------------------+\n|          Japan|即位礼正殿の儀が行われる日|即位礼正殿の儀が行われる日|        false|               JP|2019-10-22 00:00:00|\n|  United States|      Martin Luther Kin...|      Martin Luther Kin...|         true|               US|2020-01-20 00:00:00|\n|  United States|      Washington's Birt...|      Washington's Birt...|         true|               US|2020-02-17 00:00:00|\n|  United States|            New Year's Day|            New Year's Day|         true|               US|2020-01-01 00:00:00|\n|  United States|             Christmas Day|             Christmas Day|         true|               US|2019-12-25 00:00:00|\n|  United States|              Veterans Day|              Veterans Day|        false|               US|2019-11-11 00:00:00|\n|  United States|              Thanksgiving|              Thanksgiving|         true|               US|2019-11-28 00:00:00|\n|  United States|              Columbus Day|              Columbus Day|        false|               US|2019-10-14 00:00:00|\n|          Japan|              勤労感謝の日|              勤労感謝の日|        false|               JP|2019-11-23 00:00:00|\n|          Japan|              建国記念の日|              建国記念の日|        false|               JP|2020-02-11 00:00:00|\n|          Japan|                天皇誕生日|                天皇誕生日|        false|               JP|2020-02-23 00:00:00|\n|          Japan|                  文化の日|                  文化の日|        false|               JP|2019-11-03 00:00:00|\n|          Japan|                  成人の日|                  成人の日|        false|               JP|2020-01-13 00:00:00|\n|          Japan|                  春分の日|                  春分の日|        false|               JP|2020-03-20 00:00:00|\n|          Japan|                  体育の日|                  体育の日|        false|               JP|2019-10-14 00:00:00|\n|          Japan|                  振替休日|                  振替休日|        false|               JP|2019-11-04 00:00:00|\n|          Japan|                  振替休日|                  振替休日|        false|               JP|2020-02-24 00:00:00|\n|          Japan|                      元日|                      元日|        false|               JP|2020-01-01 00:00:00|\n+---------------+--------------------------+--------------------------+-------------+-----------------+-------------------+"
          },
          "metadata": {}
        }
      ],
      "metadata": {},
      "source": [
        "# Update column the 'null' value in 'isPaidTimeOff' with 'false'\n",
        "\n",
        "from pyspark.sql.functions import *\n",
        "deltaTable.update(\n",
        "    condition = (col(\"isPaidTimeOff\").isNull()),\n",
        "    set = {\"isPaidTimeOff\": \"false\"})\n",
        "\n",
        "deltaTable.toDF().show()"
      ],
      "attachments": {}
    },
    {
      "cell_type": "markdown",
      "metadata": {},
      "source": [
        "## Delte data from the table that match the given condition\n",
        ""
      ],
      "attachments": {}
    },
    {
      "cell_type": "code",
      "execution_count": 72,
      "outputs": [
        {
          "execution_count": 72,
          "output_type": "execute_result",
          "data": {
            "text/plain": "Row count before delete: \n18\nRow count after delete:  \n9\n+---------------+--------------------------+--------------------------+-------------+-----------------+-------------------+\n|countryOrRegion|               holidayName|      normalizeHolidayName|isPaidTimeOff|countryRegionCode|               date|\n+---------------+--------------------------+--------------------------+-------------+-----------------+-------------------+\n|          Japan|即位礼正殿の儀が行われる日|即位礼正殿の儀が行われる日|        false|               JP|2019-10-22 00:00:00|\n|  United States|             Christmas Day|             Christmas Day|         true|               US|2019-12-25 00:00:00|\n|  United States|              Veterans Day|              Veterans Day|        false|               US|2019-11-11 00:00:00|\n|  United States|              Thanksgiving|              Thanksgiving|         true|               US|2019-11-28 00:00:00|\n|  United States|              Columbus Day|              Columbus Day|        false|               US|2019-10-14 00:00:00|\n|          Japan|              勤労感謝の日|              勤労感謝の日|        false|               JP|2019-11-23 00:00:00|\n|          Japan|                  振替休日|                  振替休日|        false|               JP|2019-11-04 00:00:00|\n|          Japan|                  文化の日|                  文化の日|        false|               JP|2019-11-03 00:00:00|\n|          Japan|                  体育の日|                  体育の日|        false|               JP|2019-10-14 00:00:00|\n+---------------+--------------------------+--------------------------+-------------+-----------------+-------------------+"
          },
          "metadata": {}
        }
      ],
      "metadata": {},
      "source": [
        "print(\"Row count before delete: \")\n",
        "print(deltaTable.toDF().count())\n",
        "\n",
        "\n",
        "# Delte data with date later than 2020-01-01\n",
        "deltaTable.delete (\"date > '2020-01-01'\")\n",
        "\n",
        "\n",
        "print(\"Row count after delete:  \")\n",
        "print(deltaTable.toDF().count())\n",
        "deltaTable.toDF().show()"
      ],
      "attachments": {}
    },
    {
      "cell_type": "markdown",
      "metadata": {},
      "source": [
        "## Get the operation history of the delta table\n",
        ""
      ],
      "attachments": {}
    },
    {
      "cell_type": "code",
      "execution_count": 73,
      "outputs": [
        {
          "execution_count": 73,
          "output_type": "execute_result",
          "data": {
            "text/plain": "Full history DF: \n+-------+-------------------+------+--------+---------+------------------------------------------------------------------------------+----+--------+---------+-----------+--------------+-------------+\n|version|timestamp          |userId|userName|operation|operationParameters                                                           |job |notebook|clusterId|readVersion|isolationLevel|isBlindAppend|\n+-------+-------------------+------+--------+---------+------------------------------------------------------------------------------+----+--------+---------+-----------+--------------+-------------+\n|19     |2020-03-30 08:34:57|null  |null    |DELETE   |[predicate -> [\"(CAST(`date` AS STRING) > '2020-01-01')\"]]                    |null|null    |null     |18         |null          |false        |\n|18     |2020-03-30 08:33:13|null  |null    |UPDATE   |[predicate -> isnull(isPaidTimeOff#5236)]                                     |null|null    |null     |17         |null          |false        |\n|17     |2020-03-30 08:32:23|null  |null    |MERGE    |[predicate -> (hol_df_JP.`countryRegionCode` = hol_df_US.`countryRegionCode`)]|null|null    |null     |16         |null          |false        |\n|16     |2020-03-30 08:30:04|null  |null    |WRITE    |[mode -> Overwrite, partitionBy -> []]                                        |null|null    |null     |15         |null          |false        |\n|15     |2020-03-30 08:28:15|null  |null    |DELETE   |[predicate -> [\"(CAST(`date` AS STRING) > '2020-01-01')\"]]                    |null|null    |null     |14         |null          |false        |\n|14     |2020-03-30 08:25:14|null  |null    |UPDATE   |[predicate -> isnull(isPaidTimeOff#4256)]                                     |null|null    |null     |13         |null          |false        |\n|13     |2020-03-30 08:24:44|null  |null    |MERGE    |[predicate -> (hol_df_JP.`countryRegionCode` = hol_df_US.`countryRegionCode`)]|null|null    |null     |12         |null          |false        |\n|12     |2020-03-30 08:21:55|null  |null    |WRITE    |[mode -> Overwrite, partitionBy -> []]                                        |null|null    |null     |11         |null          |false        |\n|11     |2020-03-30 08:15:32|null  |null    |DELETE   |[predicate -> [\"(CAST(`date` AS STRING) > '2020-01-01')\"]]                    |null|null    |null     |10         |null          |false        |\n|10     |2020-03-30 08:08:20|null  |null    |UPDATE   |[predicate -> isnull(isPaidTimeOff#2919)]                                     |null|null    |null     |9          |null          |false        |\n|9      |2020-03-30 08:07:11|null  |null    |MERGE    |[predicate -> (hol_df_JP.`countryRegionCode` = hol_df_US.`countryRegionCode`)]|null|null    |null     |8          |null          |false        |\n|8      |2020-03-30 08:06:23|null  |null    |WRITE    |[mode -> Overwrite, partitionBy -> []]                                        |null|null    |null     |7          |null          |false        |\n|7      |2020-03-30 08:04:56|null  |null    |DELETE   |[predicate -> [\"(CAST(`date` AS STRING) > '2020-01-01')\"]]                    |null|null    |null     |6          |null          |false        |\n|6      |2020-03-30 07:56:21|null  |null    |UPDATE   |[predicate -> isnull(isPaidTimeOff#717)]                                      |null|null    |null     |5          |null          |false        |\n|5      |2020-03-30 07:53:24|null  |null    |UPDATE   |[predicate -> (countryRegionCode#718 = JP)]                                   |null|null    |null     |4          |null          |false        |\n|4      |2020-03-30 07:26:37|null  |null    |WRITE    |[mode -> Overwrite, partitionBy -> []]                                        |null|null    |null     |3          |null          |false        |\n|3      |2020-03-30 07:25:09|null  |null    |WRITE    |[mode -> Overwrite, partitionBy -> [\"holidayName\"]]                           |null|null    |null     |2          |null          |false        |\n|2      |2020-03-30 06:59:03|null  |null    |MERGE    |[predicate -> (hol_df_JP.`countryRegionCode` = hol_df_US.`countryRegionCode`)]|null|null    |null     |1          |null          |false        |\n|1      |2020-03-30 06:34:58|null  |null    |WRITE    |[mode -> Overwrite, partitionBy -> []]                                        |null|null    |null     |0          |null          |false        |\n|0      |2020-03-30 06:32:18|null  |null    |WRITE    |[mode -> Overwrite, partitionBy -> [\"holidayName\"]]                           |null|null    |null     |null       |null          |false        |\n+-------+-------------------+------+--------+---------+------------------------------------------------------------------------------+----+--------+---------+-----------+--------------+-------------+\n\nlastOperationDF: \n+-------+-------------------+------+--------+---------+----------------------------------------------------------+----+--------+---------+-----------+--------------+-------------+\n|version|timestamp          |userId|userName|operation|operationParameters                                       |job |notebook|clusterId|readVersion|isolationLevel|isBlindAppend|\n+-------+-------------------+------+--------+---------+----------------------------------------------------------+----+--------+---------+-----------+--------------+-------------+\n|19     |2020-03-30 08:34:57|null  |null    |DELETE   |[predicate -> [\"(CAST(`date` AS STRING) > '2020-01-01')\"]]|null|null    |null     |18         |null          |false        |\n+-------+-------------------+------+--------+---------+----------------------------------------------------------+----+--------+---------+-----------+--------------+-------------+"
          },
          "metadata": {}
        }
      ],
      "metadata": {},
      "source": [
        "fullHistoryDF = deltaTable.history()\n",
        "lastOperationDF = deltaTable.history(1)\n",
        "\n",
        "print('Full history DF: ')\n",
        "fullHistoryDF.show(truncate = False)\n",
        "\n",
        "print('lastOperationDF: ')\n",
        "lastOperationDF.show(truncate = False)"
      ],
      "attachments": {}
    }
  ]
}