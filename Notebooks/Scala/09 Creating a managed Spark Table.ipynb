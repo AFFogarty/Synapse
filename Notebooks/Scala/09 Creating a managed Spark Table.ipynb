{
  "metadata": {
    "saveOutput": true,
    "language_info": {
      "name": "scala"
    }
  },
  "nbformat": 4,
  "nbformat_minor": 2,
  "cells": [
    {
      "cell_type": "markdown",
      "metadata": {},
      "source": [
        "# Creating a managed Spark table\n",
        "This notebook describes how to create a managed table from Spark. \n",
        "The table is created in the Synapse warehouse folder in your primary storage account. The table will be synchronized and available in Synapse SQL Pools. \n",
        ""
      ],
      "attachments": {}
    },
    {
      "cell_type": "code",
      "execution_count": 7,
      "outputs": [
        {
          "output_type": "execute_result",
          "execution_count": 7,
          "data": {
            "text/plain": "res2: org.apache.spark.sql.DataFrame = []"
          },
          "metadata": {}
        }
      ],
      "metadata": {},
      "source": [
        "spark.sql(\"CREATE TABLE cities (name STRING, population INT) USING PARQUET\")"
      ],
      "attachments": {}
    },
    {
      "cell_type": "markdown",
      "metadata": {},
      "source": [
        "Insert a few rows into the table using a list of values.\n",
        ""
      ],
      "attachments": {}
    },
    {
      "cell_type": "code",
      "execution_count": 8,
      "outputs": [
        {
          "output_type": "execute_result",
          "execution_count": 8,
          "data": {
            "text/plain": "res3: org.apache.spark.sql.DataFrame = []"
          },
          "metadata": {}
        }
      ],
      "metadata": {},
      "source": [
        "spark.sql(\"INSERT INTO cities VALUES ('Seattle', 730400), ('San Francisco', 881549), ('Beijing', 21540000), ('Bangalore', 10540000)\")"
      ],
      "attachments": {}
    },
    {
      "cell_type": "markdown",
      "metadata": {},
      "source": [
        "* Retrieve values back. Click on 'Chart' below to review the visualization.\n",
        ""
      ],
      "attachments": {}
    },
    {
      "cell_type": "code",
      "execution_count": 9,
      "outputs": [
        {
          "output_type": "execute_result",
          "execution_count": 9,
          "data": {
            "application/json": {
              "rows": [
                [
                  "Bangalore",
                  10540000
                ],
                [
                  "Beijing",
                  21540000
                ],
                [
                  "San Francisco",
                  881549
                ],
                [
                  "Seattle",
                  730400
                ]
              ],
              "schema": [
                "name",
                "population"
              ]
            }
          },
          "metadata": {}
        }
      ],
      "metadata": {},
      "source": [
        "display(spark.sql(\"SELECT * FROM cities ORDER BY name\"))"
      ],
      "attachments": {}
    },
    {
      "cell_type": "markdown",
      "metadata": {},
      "source": [
        "Drop the table. Please note the data will get deleted from the primary storage account associated with this workspace.\n",
        ""
      ],
      "attachments": {}
    },
    {
      "cell_type": "code",
      "execution_count": 10,
      "outputs": [
        {
          "output_type": "execute_result",
          "execution_count": 10,
          "data": {
            "text/plain": "res5: org.apache.spark.sql.DataFrame = []"
          },
          "metadata": {}
        }
      ],
      "metadata": {},
      "source": [
        "spark.sql(\"DROP TABLE cities\")"
      ],
      "attachments": {}
    }
  ]
}