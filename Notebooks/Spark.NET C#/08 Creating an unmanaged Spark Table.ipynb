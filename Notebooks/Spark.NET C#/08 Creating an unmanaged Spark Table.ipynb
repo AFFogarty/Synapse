{
  "metadata": {
    "saveOutput": true,
    "language_info": {
      "name": "csharp"
    }
  },
  "nbformat": 4,
  "nbformat_minor": 2,
  "cells": [
    {
      "cell_type": "markdown",
      "metadata": {},
      "source": [
        "# Creating an unmanaged (external) Spark table\n",
        "This notebook describes how to create an unmanaged (also known as external) table from Spark. \n",
        "The table is created in /datalake/cities which may exist already (so you can attach to existing data) it can be created when you insert data."
      ],
      "attachments": {}
    },
    {
      "cell_type": "code",
      "execution_count": 30,
      "outputs": [
        {
          "output_type": "execute_result",
          "execution_count": 30,
          "data": {
            "text/html": "Microsoft.Spark.Sql.DataFrame"
          },
          "metadata": {}
        }
      ],
      "metadata": {},
      "source": [
        "spark.Sql(\"CREATE TABLE cities (name STRING, population INT) USING PARQUET LOCATION '/datalake/cities' OPTIONS ('compression'='snappy')\")"
      ],
      "attachments": {}
    },
    {
      "cell_type": "markdown",
      "metadata": {},
      "source": [
        "Insert a few rows into the table using a list of values.\n",
        ""
      ],
      "attachments": {}
    },
    {
      "cell_type": "code",
      "execution_count": 31,
      "outputs": [
        {
          "output_type": "execute_result",
          "execution_count": 31,
          "data": {
            "text/html": "Microsoft.Spark.Sql.DataFrame"
          },
          "metadata": {}
        }
      ],
      "metadata": {},
      "source": [
        "spark.Sql(\"INSERT INTO cities VALUES ('Seattle', 730400), ('San Francisco', 881549), ('Beijing', 21540000), ('Bangalore', 10540000)\")"
      ],
      "attachments": {}
    },
    {
      "cell_type": "markdown",
      "metadata": {},
      "source": [
        "* Retrieve values back. Click on 'Chart' below to review the visualization.\n",
        ""
      ],
      "attachments": {}
    },
    {
      "cell_type": "code",
      "execution_count": 32,
      "outputs": [
        {
          "output_type": "execute_result",
          "execution_count": 32,
          "data": {
            "text/plain": "+-------------+----------+\n|         name|population|\n+-------------+----------+\n|    Bangalore|  10540000|\n|    Bangalore|  10540000|\n|      Beijing|  21540000|\n|      Beijing|  21540000|\n|San Francisco|    881549|\n|San Francisco|    881549|\n|      Seattle|    730400|\n|      Seattle|    730400|\n+-------------+----------+"
          },
          "metadata": {}
        }
      ],
      "metadata": {},
      "source": [
        "spark.Sql(\"SELECT * FROM cities ORDER BY name\").Show()"
      ],
      "attachments": {}
    },
    {
      "cell_type": "markdown",
      "metadata": {},
      "source": [
        "Drop the table. Please note the data will remain in the data lake.\n",
        ""
      ],
      "attachments": {}
    },
    {
      "cell_type": "code",
      "execution_count": 33,
      "outputs": [
        {
          "output_type": "execute_result",
          "execution_count": 33,
          "data": {
            "text/html": "Microsoft.Spark.Sql.DataFrame"
          },
          "metadata": {}
        }
      ],
      "metadata": {},
      "source": [
        "spark.Sql(\"DROP TABLE cities\")"
      ],
      "attachments": {}
    }
  ]
}