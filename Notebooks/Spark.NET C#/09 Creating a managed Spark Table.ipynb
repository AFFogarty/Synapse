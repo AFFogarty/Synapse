{
  "metadata": {
    "saveOutput": true,
    "language_info": {
      "name": "csharp"
    }
  },
  "nbformat": 4,
  "nbformat_minor": 2,
  "cells": [
    {
      "cell_type": "markdown",
      "metadata": {},
      "source": [
        "# Creating a managed Spark table\n",
        "This notebook describes how to create a managed table from Spark. \n",
        "The table is created in the Synapse warehouse folder in your primary storage account. The table will be synchronized and available in Synapse SQL Pools. \n",
        ""
      ],
      "attachments": {}
    },
    {
      "cell_type": "code",
      "execution_count": 11,
      "outputs": [
        {
          "output_type": "execute_result",
          "execution_count": 11,
          "data": {
            "text/html": "Microsoft.Spark.Sql.DataFrame"
          },
          "metadata": {}
        }
      ],
      "metadata": {},
      "source": [
        "spark.Sql(\"CREATE TABLE cities (name STRING, population INT) USING PARQUET\")"
      ],
      "attachments": {}
    },
    {
      "cell_type": "markdown",
      "metadata": {},
      "source": [
        "Insert a few rows into the table using a list of values.\n",
        ""
      ],
      "attachments": {}
    },
    {
      "cell_type": "code",
      "execution_count": 12,
      "outputs": [
        {
          "output_type": "execute_result",
          "execution_count": 12,
          "data": {
            "text/html": "Microsoft.Spark.Sql.DataFrame"
          },
          "metadata": {}
        }
      ],
      "metadata": {},
      "source": [
        "spark.Sql(\"INSERT INTO cities VALUES ('Seattle', 730400), ('San Francisco', 881549), ('Beijing', 21540000), ('Bangalore', 10540000)\")"
      ],
      "attachments": {}
    },
    {
      "cell_type": "markdown",
      "metadata": {},
      "source": [
        "* Retrieve values back. Click on 'Chart' below to review the visualization.\n",
        ""
      ],
      "attachments": {}
    },
    {
      "cell_type": "code",
      "execution_count": 13,
      "outputs": [
        {
          "output_type": "execute_result",
          "execution_count": 13,
          "data": {
            "text/plain": "+-------------+----------+\n|         name|population|\n+-------------+----------+\n|    Bangalore|  10540000|\n|      Beijing|  21540000|\n|San Francisco|    881549|\n|      Seattle|    730400|\n+-------------+----------+"
          },
          "metadata": {}
        }
      ],
      "metadata": {},
      "source": [
        "spark.Sql(\"SELECT * FROM cities ORDER BY name\").Show()"
      ],
      "attachments": {}
    },
    {
      "cell_type": "markdown",
      "metadata": {},
      "source": [
        "Drop the table. Please note the data will get deleted from the primary storage account associated with this workspace.\n",
        ""
      ],
      "attachments": {}
    },
    {
      "cell_type": "code",
      "execution_count": 14,
      "outputs": [
        {
          "output_type": "execute_result",
          "execution_count": 14,
          "data": {
            "text/html": "Microsoft.Spark.Sql.DataFrame"
          },
          "metadata": {}
        }
      ],
      "metadata": {},
      "source": [
        "spark.Sql(\"DROP TABLE cities\")"
      ],
      "attachments": {}
    }
  ]
}