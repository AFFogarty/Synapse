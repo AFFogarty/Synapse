{
  "metadata": {
    "description": "Creating an unmanaged Spark Table sample notebook. The table will be synchronized and available in Synapse SQL Pools.",
    "saveOutput": true,
    "language_info": {
      "name": "sql"
    }
  },
  "nbformat": 4,
  "nbformat_minor": 2,
  "cells": [
    {
      "cell_type": "markdown",
      "metadata": {},
      "source": [
        "# Creating an unmanaged (external) Spark table\n",
        "This notebook describes how to create an unmanaged (also known as external) table from Spark. \n",
        "The table is created in /datalake/cities which may exist already (so you can attach to existing data) it can be created when you insert data."
      ],
      "attachments": {}
    },
    {
      "cell_type": "code",
      "execution_count": 9,
      "outputs": [
        {
          "output_type": "execute_result",
          "execution_count": 9,
          "data": {
            "application/json": {
              "rows": [],
              "schema": []
            }
          },
          "metadata": {}
        }
      ],
      "metadata": {},
      "source": [
        "CREATE TABLE cities\n",
        "  (name STRING, population INT)\n",
        "  USING PARQUET\n",
        "  LOCATION '/datalake/cities'\n",
        "  OPTIONS ('compression'='snappy')"
      ],
      "attachments": {}
    },
    {
      "cell_type": "markdown",
      "metadata": {},
      "source": [
        "Insert a few rows into the table using a list of values.\n",
        ""
      ],
      "attachments": {}
    },
    {
      "cell_type": "code",
      "execution_count": 10,
      "outputs": [
        {
          "output_type": "execute_result",
          "execution_count": 10,
          "data": {
            "application/json": {
              "rows": [],
              "schema": []
            }
          },
          "metadata": {}
        }
      ],
      "metadata": {},
      "source": [
        "INSERT INTO cities VALUES ('Seattle', 730400), ('San Francisco', 881549), ('Beijing', 21540000), ('Bangalore', 10540000)"
      ],
      "attachments": {}
    },
    {
      "cell_type": "markdown",
      "metadata": {},
      "source": [
        "* Retrieve values back. Click on 'Chart' below to review the visualization.\n",
        ""
      ],
      "attachments": {}
    },
    {
      "cell_type": "code",
      "execution_count": 11,
      "outputs": [
        {
          "output_type": "execute_result",
          "execution_count": 11,
          "data": {
            "application/json": {
              "rows": [
                [
                  "Bangalore",
                  10540000
                ],
                [
                  "Beijing",
                  21540000
                ],
                [
                  "San Francisco",
                  881549
                ],
                [
                  "Seattle",
                  730400
                ]
              ],
              "schema": [
                "name",
                "population"
              ]
            }
          },
          "metadata": {}
        }
      ],
      "metadata": {},
      "source": [
        "SELECT * FROM cities ORDER BY name"
      ],
      "attachments": {}
    },
    {
      "cell_type": "markdown",
      "metadata": {},
      "source": [
        "Drop the table. Please note the data will remain in the data lake.\n",
        ""
      ],
      "attachments": {}
    },
    {
      "cell_type": "code",
      "execution_count": 8,
      "outputs": [
        {
          "output_type": "execute_result",
          "execution_count": 8,
          "data": {
            "application/json": {
              "rows": [],
              "schema": []
            }
          },
          "metadata": {}
        }
      ],
      "metadata": {},
      "source": [
        "DROP TABLE cities"
      ],
      "attachments": {}
    }
  ]
}